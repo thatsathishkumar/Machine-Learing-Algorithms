{
 "cells": [
  {
   "cell_type": "markdown",
   "id": "cee7dbf2-3d2f-4cfb-a857-fe95bc7141cc",
   "metadata": {},
   "source": [
    "### import package"
   ]
  },
  {
   "cell_type": "code",
   "execution_count": 2,
   "id": "ce4b4f9d-9ad2-4827-8073-fe00fd25ec23",
   "metadata": {},
   "outputs": [],
   "source": [
    "import numpy as np\n",
    "import tensorflow.keras as tf"
   ]
  },
  {
   "cell_type": "code",
   "execution_count": 3,
   "id": "0b368ac8-4a47-447c-8146-a2030b9b9456",
   "metadata": {},
   "outputs": [],
   "source": [
    "size_of_room = [[1.0], [2.0]]\n",
    "price_per_room = [[300.0], [500.0]]\n",
    "\n",
    "Xtrain = np.array(size_of_room, dtype = np.float32)           \n",
    "Ytrain = np.array(price_per_room, dtype = np.float32)       \n"
   ]
  },
  {
   "cell_type": "code",
   "execution_count": 4,
   "id": "062101c1-68a9-44ee-8006-cc2927bab5e6",
   "metadata": {},
   "outputs": [],
   "source": [
    "linear_model_layer = tf.layers.Dense(units = 1, activation = \"linear\")"
   ]
  },
  {
   "cell_type": "code",
   "execution_count": 5,
   "id": "50d1168e-3702-489a-be75-452d4dcaadbb",
   "metadata": {},
   "outputs": [
    {
     "name": "stdout",
     "output_type": "stream",
     "text": [
      "w is = [] and b is = 0\n"
     ]
    }
   ],
   "source": [
    "try:\n",
    "    w, b = linear_model_layer.get_weights()\n",
    "    print(f\"w is = {w} and b is = {b}\")\n",
    "except:\n",
    "    print(f\"w is = {[]} and b is = {0}\")"
   ]
  },
  {
   "cell_type": "code",
   "execution_count": 6,
   "id": "824b37ab-2d0c-4021-b7eb-8231f1a410c7",
   "metadata": {},
   "outputs": [
    {
     "data": {
      "text/plain": [
       "<tf.Tensor: shape=(1, 1), dtype=float32, numpy=array([[0.05439174]], dtype=float32)>"
      ]
     },
     "execution_count": 6,
     "metadata": {},
     "output_type": "execute_result"
    }
   ],
   "source": [
    "input_feature = Xtrain[0].reshape(1, 1)\n",
    "\n",
    "a1 = linear_model_layer(input_feature)\n",
    "a1"
   ]
  },
  {
   "cell_type": "code",
   "execution_count": 7,
   "id": "d70bb83e-6489-4ce7-b0ed-6fa57888c32d",
   "metadata": {},
   "outputs": [
    {
     "name": "stdout",
     "output_type": "stream",
     "text": [
      "w is = [[0.05439174]] and b is = [0.]\n"
     ]
    }
   ],
   "source": [
    "w, b = linear_model_layer.get_weights()\n",
    "print(f\"w is = {w} and b is = {b}\")"
   ]
  },
  {
   "cell_type": "code",
   "execution_count": 8,
   "id": "ed1ded1f-c250-42d5-9ff0-ddf23f913123",
   "metadata": {},
   "outputs": [
    {
     "name": "stdout",
     "output_type": "stream",
     "text": [
      "w is = [[0.05439174]] and b is = [0.]\n",
      "w is = [[0.05439174]] and b is = [0.]\n"
     ]
    }
   ],
   "source": [
    "for i in range(len(Xtrain)):\n",
    "    input_feature_i = Xtrain[i].reshape(1, 1)\n",
    "    a_i = linear_model_layer(input_feature_i)\n",
    "    w, b = linear_model_layer.get_weights()\n",
    "    print(f\"w is = {w} and b is = {b}\")\n",
    "    "
   ]
  },
  {
   "cell_type": "code",
   "execution_count": 9,
   "id": "26c32e6d-9527-40b3-80e1-2cd8515e8abd",
   "metadata": {},
   "outputs": [
    {
     "name": "stdout",
     "output_type": "stream",
     "text": [
      "w is = [[200.]] and b is = [100.]\n"
     ]
    }
   ],
   "source": [
    "set_w = np.array([[200]])\n",
    "set_b = np.array([100])\n",
    "\n",
    "linear_model_layer.set_weights([set_w, set_b])\n",
    "\n",
    "w, b = linear_model_layer.get_weights()\n",
    "print(f\"w is = {w} and b is = {b}\")"
   ]
  },
  {
   "cell_type": "code",
   "execution_count": 10,
   "id": "fa03ae83-3507-4600-a397-beb7c9bbacc4",
   "metadata": {},
   "outputs": [
    {
     "name": "stdout",
     "output_type": "stream",
     "text": [
      "tf.Tensor([[300.]], shape=(1, 1), dtype=float32)\n",
      "[[300.]]\n"
     ]
    }
   ],
   "source": [
    "a1 = linear_model_layer(input_feature)\n",
    "print(a1)\n",
    "alin = np.dot(set_w, input_feature) + set_b\n",
    "print(alin)"
   ]
  },
  {
   "cell_type": "code",
   "execution_count": 29,
   "id": "7003fcb5-e350-4b4e-8609-56c67e07fc6b",
   "metadata": {},
   "outputs": [],
   "source": []
  },
  {
   "cell_type": "code",
   "execution_count": 19,
   "id": "45d6cf4b-4f49-485f-97ce-ab781fe690d8",
   "metadata": {},
   "outputs": [],
   "source": [
    "X_train = np.array([[0., 1., 2., 3., 4., 5.]])  # 2-D Matrix\n",
    "Y_train = np.array([0,  0, 0, 1, 1, 1], dtype = np.float32).reshape(-1, 1)  # 2-D Matrix\n"
   ]
  },
  {
   "cell_type": "code",
   "execution_count": null,
   "id": "1992dac5-9111-4d5c-ab9e-ed9edad713c1",
   "metadata": {},
   "outputs": [],
   "source": []
  },
  {
   "cell_type": "code",
   "execution_count": null,
   "id": "7626d827-5d24-4053-aa19-dc5921fdfc9c",
   "metadata": {},
   "outputs": [],
   "source": []
  },
  {
   "cell_type": "code",
   "execution_count": null,
   "id": "cdedce1b-bfab-4ae3-a313-6b70e8eef3a0",
   "metadata": {},
   "outputs": [],
   "source": []
  },
  {
   "cell_type": "code",
   "execution_count": 28,
   "id": "bc6554e4",
   "metadata": {},
   "outputs": [],
   "source": [
    "def sigmoid(z):\n",
    "    return 1 / (np.exp(-z) + 1)\n",
    "\n",
    "def my_dense(a_in, W, b, g):\n",
    "    \n",
    "    units = W.shape[1]\n",
    "    a_out = np.zeros(units)\n",
    "    for j in range(units):               \n",
    "        w = W[:, j]                                    \n",
    "        z = np.dot(w, a_in) + b[j]         \n",
    "        a_out[j] = g(z)  \n",
    "              \n",
    "    return a_out\n",
    "\n",
    "def my_sequential(x, W1, b1, W2, b2):\n",
    "    a1 = my_dense(x,  W1, b1, sigmoid)\n",
    "    a2 = my_dense(a1, W2, b2, sigmoid)\n",
    "    return(a2)   \n",
    "\n",
    "def my_predict(X, W1, b1, W2, b2):\n",
    "    m = X.shape[0]\n",
    "    p = np.zeros((m, 1))\n",
    "    for i in range(m):\n",
    "        p[i, 0] = my_sequential(X[i], W1, b1, W2, b2)\n",
    "    return(p)"
   ]
  },
  {
   "cell_type": "code",
   "execution_count": 29,
   "id": "258153b3",
   "metadata": {},
   "outputs": [
    {
     "name": "stdout",
     "output_type": "stream",
     "text": [
      "decisions = \n",
      "[[0]\n",
      " [0]]\n"
     ]
    },
    {
     "name": "stderr",
     "output_type": "stream",
     "text": [
      "C:\\Users\\sathi\\AppData\\Local\\Temp\\ipykernel_16264\\3483333986.py:2: RuntimeWarning: overflow encountered in exp\n",
      "  return 1 / (np.exp(-z) + 1)\n"
     ]
    }
   ],
   "source": [
    "W1_tmp = np.array( [[-8.93,  0.29, 12.9 ], [-0.1,  -7.32, 10.81]] )\n",
    "b1_tmp = np.array( [-9.82, -9.28,  0.96] )\n",
    "W2_tmp = np.array( [[-31.18], [-27.59], [-32.56]] )\n",
    "b2_tmp = np.array( [15.41] )\n",
    "\n",
    "norm_l = tf.layers.Normalization(axis=-1)\n",
    "\n",
    "X_tst = np.array([[200,13.9], [200,17]])  \n",
    "X_tstn = norm_l(X_tst)  \n",
    "predictions = my_predict(X_tstn, W1_tmp, b1_tmp, W2_tmp, b2_tmp)\n",
    "yhat = (predictions >= 0.5).astype(int)\n",
    "print(f\"decisions = \\n{yhat}\")"
   ]
  },
  {
   "cell_type": "code",
   "execution_count": null,
   "id": "dd8f02c4",
   "metadata": {},
   "outputs": [],
   "source": []
  }
 ],
 "metadata": {
  "kernelspec": {
   "display_name": "Python 3 (ipykernel)",
   "language": "python",
   "name": "python3"
  },
  "language_info": {
   "codemirror_mode": {
    "name": "ipython",
    "version": 3
   },
   "file_extension": ".py",
   "mimetype": "text/x-python",
   "name": "python",
   "nbconvert_exporter": "python",
   "pygments_lexer": "ipython3",
   "version": "3.8.19"
  }
 },
 "nbformat": 4,
 "nbformat_minor": 5
}
